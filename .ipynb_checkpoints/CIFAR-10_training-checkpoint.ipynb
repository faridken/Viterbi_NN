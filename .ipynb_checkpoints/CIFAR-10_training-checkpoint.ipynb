{
 "cells": [
  {
   "cell_type": "code",
   "execution_count": 1,
   "metadata": {},
   "outputs": [],
   "source": [
    "import tensorflow as tf\n",
    "from tensorflow.keras import datasets, layers, models\n",
    "import matplotlib.pyplot as plt"
   ]
  },
  {
   "cell_type": "code",
   "execution_count": 2,
   "metadata": {
    "scrolled": false
   },
   "outputs": [],
   "source": [
    "(train_images, train_labels), (test_images, test_labels) = datasets.cifar10.load_data()\n",
    "\n",
    "# Normalize pixel values to be between 0 and 1\n",
    "train_images, test_images = train_images / 255.0, test_images / 255.0"
   ]
  },
  {
   "cell_type": "code",
   "execution_count": 3,
   "metadata": {},
   "outputs": [
    {
     "data": {
      "text/plain": [
       "(50000, 32, 32, 3)"
      ]
     },
     "execution_count": 3,
     "metadata": {},
     "output_type": "execute_result"
    }
   ],
   "source": [
    "train_images.shape"
   ]
  },
  {
   "cell_type": "code",
   "execution_count": 4,
   "metadata": {},
   "outputs": [
    {
     "data": {
      "text/plain": [
       "(10000, 32, 32, 3)"
      ]
     },
     "execution_count": 4,
     "metadata": {},
     "output_type": "execute_result"
    }
   ],
   "source": [
    "test_images.shape"
   ]
  },
  {
   "cell_type": "code",
   "execution_count": 5,
   "metadata": {},
   "outputs": [],
   "source": [
    "def calc_MACs_in_Conv(K, C_in, C_out, H_out, W_out): \n",
    "    return (K**2) * C_in * H_out * W_out * C_out "
   ]
  },
  {
   "cell_type": "code",
   "execution_count": 6,
   "metadata": {},
   "outputs": [],
   "source": [
    "# first conv\n",
    "conv1 = calc_MACs_in_Conv(3, 3, 32, 30, 30)"
   ]
  },
  {
   "cell_type": "code",
   "execution_count": 7,
   "metadata": {},
   "outputs": [],
   "source": [
    "# second conv\n",
    "conv2 = calc_MACs_in_Conv(3, 32, 32, 28, 28)"
   ]
  },
  {
   "cell_type": "code",
   "execution_count": 8,
   "metadata": {},
   "outputs": [],
   "source": [
    "def calc_MACs_in_FC(in_n, out_n): \n",
    "    return in_n * out_n "
   ]
  },
  {
   "cell_type": "code",
   "execution_count": 9,
   "metadata": {},
   "outputs": [],
   "source": [
    "# first fc\n",
    "fc1 = calc_MACs_in_FC(6272, 128)"
   ]
  },
  {
   "cell_type": "code",
   "execution_count": 10,
   "metadata": {},
   "outputs": [],
   "source": [
    "# second fc\n",
    "fc2 = calc_MACs_in_FC(128, 10)"
   ]
  },
  {
   "cell_type": "code",
   "execution_count": 11,
   "metadata": {},
   "outputs": [
    {
     "data": {
      "text/plain": [
       "8807040"
      ]
     },
     "execution_count": 11,
     "metadata": {},
     "output_type": "execute_result"
    }
   ],
   "source": [
    "conv1 + conv2 + fc1 + fc2"
   ]
  },
  {
   "cell_type": "code",
   "execution_count": 12,
   "metadata": {},
   "outputs": [],
   "source": [
    "# accuracy %71"
   ]
  },
  {
   "cell_type": "code",
   "execution_count": 13,
   "metadata": {},
   "outputs": [],
   "source": [
    "model = models.Sequential()\n",
    "model.add(layers.Conv2D(32, (3,3), use_bias=False,padding='valid', activation='relu', input_shape=(32,32,3)))\n",
    "# model.add(layers.BatchNormalization())\n",
    "model.add(layers.Conv2D(32, (3,3), use_bias=False,padding='valid', activation='relu'))\n",
    "# model.add(layers.BatchNormalization())\n",
    "model.add(layers.MaxPooling2D(pool_size=(2,2)))\n",
    "model.add(layers.Dropout(0.3))\n",
    "model.add(layers.Flatten())\n",
    "model.add(layers.Dense(128, use_bias=False,activation='relu'))\n",
    "# model.add(layers.BatchNormalization())\n",
    "model.add(layers.Dropout(0.5))\n",
    "model.add(layers.Dense(10, use_bias=False,activation='softmax'))    # num_classes = 10"
   ]
  },
  {
   "cell_type": "code",
   "execution_count": 14,
   "metadata": {},
   "outputs": [
    {
     "name": "stdout",
     "output_type": "stream",
     "text": [
      "Model: \"sequential\"\n",
      "_________________________________________________________________\n",
      "Layer (type)                 Output Shape              Param #   \n",
      "=================================================================\n",
      "quantize_layer (QuantizeLaye (None, 32, 32, 3)         3         \n",
      "_________________________________________________________________\n",
      "quant_conv2d (QuantizeWrappe (None, 30, 30, 32)        931       \n",
      "_________________________________________________________________\n",
      "quant_conv2d_1 (QuantizeWrap (None, 28, 28, 32)        9283      \n",
      "_________________________________________________________________\n",
      "quant_max_pooling2d (Quantiz (None, 14, 14, 32)        1         \n",
      "_________________________________________________________________\n",
      "quant_dropout (QuantizeWrapp (None, 14, 14, 32)        1         \n",
      "_________________________________________________________________\n",
      "quant_flatten (QuantizeWrapp (None, 6272)              1         \n",
      "_________________________________________________________________\n",
      "quant_dense (QuantizeWrapper (None, 128)               802821    \n",
      "_________________________________________________________________\n",
      "quant_dropout_1 (QuantizeWra (None, 128)               1         \n",
      "_________________________________________________________________\n",
      "quant_dense_1 (QuantizeWrapp (None, 10)                1285      \n",
      "=================================================================\n",
      "Total params: 814,327\n",
      "Trainable params: 814,176\n",
      "Non-trainable params: 151\n",
      "_________________________________________________________________\n"
     ]
    }
   ],
   "source": [
    "import tensorflow_model_optimization as tfmot\n",
    "\n",
    "quantize_model = tfmot.quantization.keras.quantize_model\n",
    "\n",
    "# q_aware stands for for quantization aware.\n",
    "q_aware_model = quantize_model(model)\n",
    "\n",
    "# `quantize_model` requires a recompile.\n",
    "q_aware_model.compile(optimizer='adam',\n",
    "              loss=tf.keras.losses.SparseCategoricalCrossentropy(from_logits=True),\n",
    "              metrics=['accuracy'])\n",
    "\n",
    "q_aware_model.summary()"
   ]
  },
  {
   "cell_type": "code",
   "execution_count": 10,
   "metadata": {},
   "outputs": [
    {
     "name": "stdout",
     "output_type": "stream",
     "text": [
      "Epoch 1/20\n",
      "391/391 [==============================] - 47s 119ms/step - loss: 2.1311 - accuracy: 0.3247 - val_loss: 2.0067 - val_accuracy: 0.4588\n",
      "Epoch 2/20\n",
      "391/391 [==============================] - 43s 110ms/step - loss: 2.0179 - accuracy: 0.4429 - val_loss: 1.9535 - val_accuracy: 0.5084\n",
      "Epoch 3/20\n",
      "391/391 [==============================] - 38s 97ms/step - loss: 1.9670 - accuracy: 0.4943 - val_loss: 1.9087 - val_accuracy: 0.5548\n",
      "Epoch 4/20\n",
      "391/391 [==============================] - 44s 111ms/step - loss: 1.9388 - accuracy: 0.5218 - val_loss: 1.8953 - val_accuracy: 0.5654\n",
      "Epoch 5/20\n",
      "391/391 [==============================] - 39s 100ms/step - loss: 1.9164 - accuracy: 0.5443 - val_loss: 1.8782 - val_accuracy: 0.5835\n",
      "Epoch 6/20\n",
      "391/391 [==============================] - 37s 94ms/step - loss: 1.8971 - accuracy: 0.5636 - val_loss: 1.8706 - val_accuracy: 0.5897\n",
      "Epoch 7/20\n",
      "391/391 [==============================] - 40s 103ms/step - loss: 1.8853 - accuracy: 0.5745 - val_loss: 1.8510 - val_accuracy: 0.6092\n",
      "Epoch 8/20\n",
      "391/391 [==============================] - 40s 103ms/step - loss: 1.8724 - accuracy: 0.5887 - val_loss: 1.8398 - val_accuracy: 0.6183\n",
      "Epoch 9/20\n",
      "391/391 [==============================] - 41s 105ms/step - loss: 1.8600 - accuracy: 0.6013 - val_loss: 1.8404 - val_accuracy: 0.6197\n",
      "Epoch 10/20\n",
      "391/391 [==============================] - 40s 103ms/step - loss: 1.8497 - accuracy: 0.6113 - val_loss: 1.8374 - val_accuracy: 0.6212\n",
      "Epoch 11/20\n",
      "391/391 [==============================] - 40s 102ms/step - loss: 1.8431 - accuracy: 0.6174 - val_loss: 1.8223 - val_accuracy: 0.6390\n",
      "Epoch 12/20\n",
      "391/391 [==============================] - 39s 100ms/step - loss: 1.8358 - accuracy: 0.6249 - val_loss: 1.8174 - val_accuracy: 0.6430\n",
      "Epoch 13/20\n",
      "391/391 [==============================] - 40s 101ms/step - loss: 1.8286 - accuracy: 0.6321 - val_loss: 1.8158 - val_accuracy: 0.6439\n",
      "Epoch 14/20\n",
      "391/391 [==============================] - 40s 102ms/step - loss: 1.8247 - accuracy: 0.6355 - val_loss: 1.8215 - val_accuracy: 0.6372\n",
      "Epoch 15/20\n",
      "391/391 [==============================] - 39s 101ms/step - loss: 1.8192 - accuracy: 0.6420 - val_loss: 1.8031 - val_accuracy: 0.6563\n",
      "Epoch 16/20\n",
      "391/391 [==============================] - 39s 101ms/step - loss: 1.8120 - accuracy: 0.6484 - val_loss: 1.8071 - val_accuracy: 0.6540\n",
      "Epoch 17/20\n",
      "391/391 [==============================] - 39s 101ms/step - loss: 1.8092 - accuracy: 0.6521 - val_loss: 1.8144 - val_accuracy: 0.6436\n",
      "Epoch 18/20\n",
      "391/391 [==============================] - 40s 102ms/step - loss: 1.8063 - accuracy: 0.6545 - val_loss: 1.7976 - val_accuracy: 0.6623\n",
      "Epoch 19/20\n",
      "391/391 [==============================] - 38s 96ms/step - loss: 1.7999 - accuracy: 0.6603 - val_loss: 1.7903 - val_accuracy: 0.6719\n",
      "Epoch 20/20\n",
      "391/391 [==============================] - 36s 92ms/step - loss: 1.7972 - accuracy: 0.6640 - val_loss: 1.7958 - val_accuracy: 0.6627\n"
     ]
    }
   ],
   "source": [
    "history = q_aware_model.fit(train_images, train_labels, epochs=20, batch_size=128,\n",
    "                    validation_data=(test_images, test_labels))"
   ]
  },
  {
   "cell_type": "code",
   "execution_count": 11,
   "metadata": {},
   "outputs": [
    {
     "name": "stdout",
     "output_type": "stream",
     "text": [
      "Quant test accuracy: [1.7958474159240723, 0.6626999974250793]\n"
     ]
    }
   ],
   "source": [
    "# baseline_model_accuracy = model.evaluate(test_images, test_labels, verbose=0)\n",
    "q_aware_model_accuracy = q_aware_model.evaluate(test_images, test_labels, verbose=0)\n",
    "\n",
    "# print('Baseline test accuracy:', baseline_model_accuracy)\n",
    "print('Quant test accuracy:', q_aware_model_accuracy)"
   ]
  },
  {
   "cell_type": "code",
   "execution_count": 12,
   "metadata": {},
   "outputs": [
    {
     "name": "stdout",
     "output_type": "stream",
     "text": [
      "WARNING:tensorflow:From /home/farid/anaconda3/lib/python3.7/site-packages/tensorflow/python/training/tracking/tracking.py:111: Model.state_updates (from tensorflow.python.keras.engine.training) is deprecated and will be removed in a future version.\n",
      "Instructions for updating:\n",
      "This property should not be used in TensorFlow 2.0, as updates are applied automatically.\n",
      "WARNING:tensorflow:From /home/farid/anaconda3/lib/python3.7/site-packages/tensorflow/python/training/tracking/tracking.py:111: Layer.updates (from tensorflow.python.keras.engine.base_layer) is deprecated and will be removed in a future version.\n",
      "Instructions for updating:\n",
      "This property should not be used in TensorFlow 2.0, as updates are applied automatically.\n",
      "INFO:tensorflow:Assets written to: /tmp/tmp9rsvqc37/assets\n"
     ]
    }
   ],
   "source": [
    "converter = tf.lite.TFLiteConverter.from_keras_model(q_aware_model)\n",
    "converter.optimizations = [tf.lite.Optimize.DEFAULT]\n",
    "\n",
    "quantized_tflite_model = converter.convert()"
   ]
  },
  {
   "cell_type": "code",
   "execution_count": 14,
   "metadata": {},
   "outputs": [],
   "source": [
    "import numpy as np\n",
    "\n",
    "def evaluate_model(interpreter):\n",
    "  input_index = interpreter.get_input_details()[0][\"index\"]\n",
    "  output_index = interpreter.get_output_details()[0][\"index\"]\n",
    "\n",
    "  # Run predictions on every image in the \"test\" dataset.\n",
    "  prediction_digits = []\n",
    "  for i, test_image in enumerate(test_images):\n",
    "    if i % 1000 == 0:\n",
    "      print('Evaluated on {n} results so far.'.format(n=i))\n",
    "    # Pre-processing: add batch dimension and convert to float32 to match with\n",
    "    # the model's input data format.\n",
    "    test_image = np.expand_dims(test_image, axis=0).astype(np.float32)\n",
    "    interpreter.set_tensor(input_index, test_image)\n",
    "\n",
    "    # Run inference.\n",
    "    interpreter.invoke()\n",
    "\n",
    "    # Post-processing: remove batch dimension and find the digit with highest\n",
    "    # probability.\n",
    "    output = interpreter.tensor(output_index)\n",
    "    digit = np.argmax(output()[0])\n",
    "    prediction_digits.append(digit)\n",
    "\n",
    "  print('\\n')\n",
    "  # Compare prediction results with ground truth labels to calculate accuracy.\n",
    "  prediction_digits = np.array(prediction_digits)\n",
    "  accuracy = (prediction_digits == test_labels).mean()\n",
    "  return accuracy"
   ]
  },
  {
   "cell_type": "code",
   "execution_count": 15,
   "metadata": {},
   "outputs": [
    {
     "name": "stdout",
     "output_type": "stream",
     "text": [
      "Evaluated on 0 results so far.\n",
      "Evaluated on 1000 results so far.\n",
      "Evaluated on 2000 results so far.\n",
      "Evaluated on 3000 results so far.\n",
      "Evaluated on 4000 results so far.\n",
      "Evaluated on 5000 results so far.\n",
      "Evaluated on 6000 results so far.\n",
      "Evaluated on 7000 results so far.\n",
      "Evaluated on 8000 results so far.\n",
      "Evaluated on 9000 results so far.\n",
      "\n",
      "\n",
      "Quant TFLite test_accuracy: 0.1\n",
      "Quant TF test accuracy: [1.7958474159240723, 0.6626999974250793]\n"
     ]
    }
   ],
   "source": [
    "interpreter = tf.lite.Interpreter(model_content=quantized_tflite_model)\n",
    "interpreter.allocate_tensors()\n",
    "\n",
    "test_accuracy = evaluate_model(interpreter)\n",
    "\n",
    "print('Quant TFLite test_accuracy:', test_accuracy)\n",
    "print('Quant TF test accuracy:', q_aware_model_accuracy)"
   ]
  }
 ],
 "metadata": {
  "kernelspec": {
   "display_name": "Python 3",
   "language": "python",
   "name": "python3"
  },
  "language_info": {
   "codemirror_mode": {
    "name": "ipython",
    "version": 3
   },
   "file_extension": ".py",
   "mimetype": "text/x-python",
   "name": "python",
   "nbconvert_exporter": "python",
   "pygments_lexer": "ipython3",
   "version": "3.7.5"
  }
 },
 "nbformat": 4,
 "nbformat_minor": 2
}
